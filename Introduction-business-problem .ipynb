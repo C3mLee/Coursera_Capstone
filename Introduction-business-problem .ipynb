{
 "cells": [
  {
   "cell_type": "markdown",
   "metadata": {},
   "source": [
    "## Introduction"
   ]
  },
  {
   "cell_type": "markdown",
   "metadata": {},
   "source": [
    "For the past two decade large cities around the world are providing more bicycles paths and lanes. Biking as a \n",
    "\n",
    "mode of transportation and recreation has become more popular.  City of Melbourne in Australia is progressive in making changes \n",
    "\n",
    "to accommodate bikers more and more every year. According to city of Melbourne website In March 2017, bicycles made up 16 per \n",
    "\n",
    "cent of all vehicle movements into the city in the morning peak period (between 7am and 10am). In March 2008 the figure was \n",
    "\n",
    "nine per cent”. Consequently number of bikers has been increasing steadily. Like a car that needs a regular service, bicycles \n",
    "\n",
    "require regular maintenance and service. As the number of bikers increases there is a need for more bicycles services. A small \n",
    "\n",
    "business entrepreneur has approached our consulting firm and wants us to comapre and find the optimum neighborhood in Melbourne to set up a bicycles service shop that maximizes return on investment. \n"
   ]
  }
 ],
 "metadata": {
  "kernelspec": {
   "display_name": "Python 3",
   "language": "python",
   "name": "python3"
  },
  "language_info": {
   "codemirror_mode": {
    "name": "ipython",
    "version": 3
   },
   "file_extension": ".py",
   "mimetype": "text/x-python",
   "name": "python",
   "nbconvert_exporter": "python",
   "pygments_lexer": "ipython3",
   "version": "3.7.1"
  }
 },
 "nbformat": 4,
 "nbformat_minor": 2
}
