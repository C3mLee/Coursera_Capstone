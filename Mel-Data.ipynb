{
 "cells": [
  {
   "cell_type": "markdown",
   "metadata": {},
   "source": [
    "## Data"
   ]
  },
  {
   "cell_type": "markdown",
   "metadata": {},
   "source": [
    "Our data collection involves four major sources.\n",
    "\n",
    "1)\tWikipedia: Where we scrape location and neighborhood data. This data will enable us to determine the number and names of \n",
    "\n",
    "neighborhoods and also provides data to proceed  with mapping the neighborhoods using folium.\n",
    "\n",
    "https://en.wikipedia.org/wiki/Local_government_areas_of_Victoria#Greater_Melbourne\n",
    "\n",
    "2)\tGoogle search. Where we locate and get data on existing bike service shops in Melbourne area. We need to determine how many \n",
    "\n",
    "bike services shops already exist in Melbourne neighborhoods. So we need to do a search and find all the names and get their \n",
    "\n",
    "address. Once we get the address we can use geocoders to get location data and superimpose  that data with neighborhood map\n",
    "\n",
    "https://www.google.com/maps/search/bicycle+repair+shop+in+melbourne+vic/@-37.823515,144.9436148,9z/data=!3m1!4b1\n",
    "\n",
    "3)\tCity of Melbourne OPEN DATA, We utilize this site to get Demographic data for Melbourne and its neighborhoods This data \n",
    "\n",
    "will utilized for segmentation purposes.   \n",
    "\n",
    "https://data.melbourne.vic.gov.au/\n",
    "\n",
    "4)\tFoursquare. We will use Foursquare to determine Park and café venues for each neighborhood. The number of café and park venues  will also be used in comparing each neighborhood.\n"
   ]
  }
 ],
 "metadata": {
  "kernelspec": {
   "display_name": "Python 3",
   "language": "python",
   "name": "python3"
  },
  "language_info": {
   "codemirror_mode": {
    "name": "ipython",
    "version": 3
   },
   "file_extension": ".py",
   "mimetype": "text/x-python",
   "name": "python",
   "nbconvert_exporter": "python",
   "pygments_lexer": "ipython3",
   "version": "3.7.1"
  }
 },
 "nbformat": 4,
 "nbformat_minor": 2
}
